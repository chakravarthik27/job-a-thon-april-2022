{
 "cells": [
  {
   "cell_type": "markdown",
   "metadata": {},
   "source": [
    "<h2><span>Demand Forecasting</span></h2>\n",
    "<p>Can you forecast the demand of the car rentals on an hourly basis?</p>\n",
    "<h2><br><span >Problem Statement</span></h2>\n",
    "<p style=\"text-align: justify;\">ABC is a car rental company based out of Bangalore. It rents cars for both in and out stations at affordable prices. The users can rent different types of cars like Sedans, Hatchbacks, SUVs and MUVs, Minivans and so on.</p>\n",
    "<p style=\"text-align: justify;\">In recent times, the demand for cars is on the rise. As a result, the company would like to tackle the problem of supply and demand. The ultimate goal of the company is to strike the balance between the supply and demand inorder to meet the user expectations.&nbsp;</p>\n",
    "<p style=\"text-align: justify;\">The company has collected the details of each rental. Based on the past data, the company would like to forecast the demand of car rentals on an hourly basis.&nbsp;</p>\n",
    "<h2><br><span >Objective</span></h2>\n",
    "<p>The main objective of the problem is to develop the machine learning approach to forecast the demand of car rentals on an hourly basis.</p>\n",
    "<h2><br><span >Data Dictionary</span></h2>\n",
    "<p>You are provided with 3 files - train.csv, test.csv and sample_submission.csv</p>\n",
    "<p><span >Training set</span></p>\n",
    "<p><strong>train.csv</strong> contains the hourly demand of car rentals from August 2018 to February 2021.<br><br></p>\n",
    "<table border=\"1\" style=\"margin-right: calc(51%); width: 49%;\">\n",
    "<tbody>\n",
    "<tr>\n",
    "<td style=\"width: 42.3159%;\">\n",
    "<p><strong>Variable</strong></p>\n",
    "</td>\n",
    "<td style=\"width: 57.3774%;\">\n",
    "<p><strong>Description</strong></p>\n",
    "</td>\n",
    "</tr>\n",
    "<tr>\n",
    "<td style=\"width: 42.3159%;\">\n",
    "<p>date</p>\n",
    "</td>\n",
    "<td style=\"width: 57.3774%;\">\n",
    "<p>Date (yyyy-mm-dd)</p>\n",
    "</td>\n",
    "</tr>\n",
    "<tr>\n",
    "<td style=\"width: 42.3159%;\">\n",
    "<p>hour</p>\n",
    "</td>\n",
    "<td style=\"width: 57.3774%;\">\n",
    "<p>Hour of the day</p>\n",
    "</td>\n",
    "</tr>\n",
    "<tr>\n",
    "<td style=\"width: 42.3159%;\">\n",
    "<p>demand</p>\n",
    "</td>\n",
    "<td style=\"width: 57.3774%;\">\n",
    "<p>No. of car rentals in a hour</p>\n",
    "</td>\n",
    "</tr>\n",
    "</tbody>\n",
    "</table>\n",
    "<h3><br><span >Test set</span></h3>\n",
    "<p><strong>test.csv</strong> contains only 2 variables: date and hour. You need to predict the hourly demand of car rentals for the next 1 year i.e. from March 2021 to March 2022.<br><br></p>\n",
    "<table border=\"1\" style=\"margin-right: calc(52%); width: 48%;\">\n",
    "<tbody>\n",
    "<tr>\n",
    "<td style=\"width: 45.5735%;\">\n",
    "<p><strong>Variable</strong></p>\n",
    "</td>\n",
    "<td style=\"width: 53.3956%;\">\n",
    "<p><strong>Description</strong></p>\n",
    "</td>\n",
    "</tr>\n",
    "<tr>\n",
    "<td style=\"width: 45.5735%;\">\n",
    "<p>date</p>\n",
    "</td>\n",
    "<td style=\"width: 53.3956%;\">\n",
    "<p>Date (yyyy-mm-dd)</p>\n",
    "</td>\n",
    "</tr>\n",
    "<tr>\n",
    "<td style=\"width: 45.5735%;\">\n",
    "<p>hour</p>\n",
    "</td>\n",
    "<td style=\"width: 53.3956%;\">\n",
    "<p>Hour of the day</p>\n",
    "</td>\n",
    "</tr>\n",
    "</tbody>\n",
    "</table>\n",
    "<h2><br><span >Submission File Format</span></h2>\n",
    "<p><strong>sample_submission.csv&nbsp;</strong>contains 3 variables - date, hour and demand<br><br></p>\n",
    "<table border=\"1\" style=\"margin-right: calc(52%); width: 48%;\">\n",
    "<tbody>\n",
    "<tr>\n",
    "<td style=\"width: 45.4859%;\">\n",
    "<p><strong>Variable</strong></p>\n",
    "</td>\n",
    "<td style=\"width: 54.2006%;\">\n",
    "<p><strong>Description</strong></p>\n",
    "</td>\n",
    "</tr>\n",
    "<tr>\n",
    "<td style=\"width: 45.4859%;\">\n",
    "<p>date</p>\n",
    "</td>\n",
    "<td style=\"width: 54.2006%;\">\n",
    "<p>Date (yyyy-mm-dd)</p>\n",
    "</td>\n",
    "</tr>\n",
    "<tr>\n",
    "<td style=\"width: 45.4859%;\">\n",
    "<p>hour</p>\n",
    "</td>\n",
    "<td style=\"width: 54.2006%;\">\n",
    "<p>Hour of the day</p>\n",
    "</td>\n",
    "</tr>\n",
    "<tr>\n",
    "<td style=\"width: 45.4859%;\">\n",
    "<p>demand</p>\n",
    "</td>\n",
    "<td style=\"width: 54.2006%;\">\n",
    "<p>No. of car rentals in a hour</p>\n",
    "</td>\n",
    "</tr>\n",
    "</tbody>\n",
    "</table>\n",
    "<h2><br><span>Evaluation metric</span></h2>\n",
    "<p>The evaluation metric for this hackathon is RMSE score.</p>\n",
    "\n",
    "\n"
   ]
  },
  {
   "cell_type": "markdown",
   "metadata": {},
   "source": [
    "<b><h1>Solution: </h1><b>"
   ]
  },
  {
   "cell_type": "code",
   "execution_count": 1,
   "metadata": {},
   "outputs": [
    {
     "name": "stderr",
     "output_type": "stream",
     "text": [
      "<frozen importlib._bootstrap>:228: RuntimeWarning: scipy._lib.messagestream.MessageStream size changed, may indicate binary incompatibility. Expected 56 from C header, got 64 from PyObject\n"
     ]
    }
   ],
   "source": [
    "#import libraries\n",
    "\n",
    "import pandas as pd \n",
    "import numpy as np \n",
    "import holidays\n",
    "import matplotlib.pyplot as plt\n",
    "import seaborn as sns\n"
   ]
  },
  {
   "cell_type": "code",
   "execution_count": 2,
   "metadata": {},
   "outputs": [],
   "source": [
    "\"\"\" \n",
    "check_holiday(date)\n",
    "\n",
    "returns 1 if date is a holiday else 0 \n",
    "\"\"\"\n",
    "def check_hoilday(date):\n",
    "    if date in holidays.IN() or date in holidays.US():\n",
    "        return 1\n",
    "    else:\n",
    "        return 0\n",
    "\n",
    "\n",
    "\"\"\" \n",
    "check_season(month)\n",
    "0: summer\n",
    "1: fall\n",
    "2: winter\n",
    "\n",
    "\"\"\"\n",
    "def check_season(month):\n",
    "    if month in [3,4,5,6]:\n",
    "        return 0 #'summer'\n",
    "    elif month in [7,8,9,10]:\n",
    "        return 1#'fall'\n",
    "    elif month in [11,12,1,2]:\n",
    "        return 2 #'winter'\n"
   ]
  },
  {
   "cell_type": "markdown",
   "metadata": {},
   "source": [
    "<b> <h3>Feature Engineering</h3> </b>\n",
    "\n",
    "<b> date </b> -> is converted into `year`, `month`, `day`, `dayofweek`, and `season`# checking statistics of the data\n",
    "train_df.describe() columns. And Also `is_weekend` column is created for checking whether it is weekend or not"
   ]
  },
  {
   "cell_type": "code",
   "execution_count": 3,
   "metadata": {},
   "outputs": [],
   "source": [
    "\"\"\" \n",
    "Feature Engineering of the data\n",
    "\n",
    "preprocessing(df)\n",
    "\n",
    "\"\"\"\n",
    "def preprocessing(df):\n",
    "    df['date'] = pd.to_datetime(df['date'])\n",
    "    df['year'] = df['date'].dt.year\n",
    "    df['month'] = df['date'].dt.month\n",
    "    df['day'] = df['date'].dt.day\n",
    "    df['dayofweek'] = df['date'].dt.dayofweek\n",
    "    df['season'] = df['month'].apply(check_season)\n",
    "    df['is_weekend'] = df['dayofweek'].apply(lambda x: 1 if x in ['Sunday', 'Saturday',5, 6] else 0)\n",
    "    df['after_weekend'] = df['dayofweek'].apply(lambda x: 1 if x == 'Monday' or x == 0 else 0)\n",
    "    df['before_weekend'] = df['dayofweek'].apply(lambda x: 1 if x == 'Saturday' or x == 5 else 0)\n",
    "    df['is_holiday'] = df['date'].apply(check_hoilday)\n",
    "\n",
    "    df.set_index('date', inplace=True)\n",
    "    df.sort_index(inplace=True)\n",
    "    return df\n"
   ]
  },
  {
   "cell_type": "code",
   "execution_count": 4,
   "metadata": {},
   "outputs": [],
   "source": [
    "train_df = preprocessing(pd.read_csv('train_E1GspfA.csv')) # preprocessing the train data\n",
    "test_df = preprocessing(pd.read_csv('test_6QvDdzb.csv')) # preprocessing the test data"
   ]
  },
  {
   "cell_type": "code",
   "execution_count": 5,
   "metadata": {
    "tags": []
   },
   "outputs": [
    {
     "name": "stdout",
     "output_type": "stream",
     "text": [
      "<class 'pandas.core.frame.DataFrame'>\n",
      "DatetimeIndex: 18247 entries, 2018-08-18 to 2021-02-28\n",
      "Data columns (total 11 columns):\n",
      " #   Column          Non-Null Count  Dtype\n",
      "---  ------          --------------  -----\n",
      " 0   hour            18247 non-null  int64\n",
      " 1   demand          18247 non-null  int64\n",
      " 2   year            18247 non-null  int64\n",
      " 3   month           18247 non-null  int64\n",
      " 4   day             18247 non-null  int64\n",
      " 5   dayofweek       18247 non-null  int64\n",
      " 6   season          18247 non-null  int64\n",
      " 7   is_weekend      18247 non-null  int64\n",
      " 8   after_weekend   18247 non-null  int64\n",
      " 9   before_weekend  18247 non-null  int64\n",
      " 10  is_holiday      18247 non-null  int64\n",
      "dtypes: int64(11)\n",
      "memory usage: 1.7 MB\n"
     ]
    }
   ],
   "source": [
    "train_df.info() # check the dataframe and its columns, And also null values"
   ]
  },
  {
   "cell_type": "code",
   "execution_count": 6,
   "metadata": {},
   "outputs": [
    {
     "data": {
      "text/html": [
       "<div>\n",
       "<style scoped>\n",
       "    .dataframe tbody tr th:only-of-type {\n",
       "        vertical-align: middle;\n",
       "    }\n",
       "\n",
       "    .dataframe tbody tr th {\n",
       "        vertical-align: top;\n",
       "    }\n",
       "\n",
       "    .dataframe thead th {\n",
       "        text-align: right;\n",
       "    }\n",
       "</style>\n",
       "<table border=\"1\" class=\"dataframe\">\n",
       "  <thead>\n",
       "    <tr style=\"text-align: right;\">\n",
       "      <th></th>\n",
       "      <th>hour</th>\n",
       "      <th>demand</th>\n",
       "      <th>year</th>\n",
       "      <th>month</th>\n",
       "      <th>day</th>\n",
       "      <th>dayofweek</th>\n",
       "      <th>season</th>\n",
       "      <th>is_weekend</th>\n",
       "      <th>after_weekend</th>\n",
       "      <th>before_weekend</th>\n",
       "      <th>is_holiday</th>\n",
       "    </tr>\n",
       "  </thead>\n",
       "  <tbody>\n",
       "    <tr>\n",
       "      <th>count</th>\n",
       "      <td>18247.000000</td>\n",
       "      <td>18247.000000</td>\n",
       "      <td>18247.000000</td>\n",
       "      <td>18247.000000</td>\n",
       "      <td>18247.000000</td>\n",
       "      <td>18247.000000</td>\n",
       "      <td>18247.000000</td>\n",
       "      <td>18247.000000</td>\n",
       "      <td>18247.000000</td>\n",
       "      <td>18247.000000</td>\n",
       "      <td>18247.000000</td>\n",
       "    </tr>\n",
       "    <tr>\n",
       "      <th>mean</th>\n",
       "      <td>12.614731</td>\n",
       "      <td>73.991451</td>\n",
       "      <td>2019.396997</td>\n",
       "      <td>6.470324</td>\n",
       "      <td>15.782430</td>\n",
       "      <td>3.025867</td>\n",
       "      <td>1.099414</td>\n",
       "      <td>0.290788</td>\n",
       "      <td>0.141886</td>\n",
       "      <td>0.145613</td>\n",
       "      <td>0.052885</td>\n",
       "    </tr>\n",
       "    <tr>\n",
       "      <th>std</th>\n",
       "      <td>6.544963</td>\n",
       "      <td>41.678988</td>\n",
       "      <td>0.810979</td>\n",
       "      <td>3.618189</td>\n",
       "      <td>8.772904</td>\n",
       "      <td>2.003638</td>\n",
       "      <td>0.812515</td>\n",
       "      <td>0.454138</td>\n",
       "      <td>0.348943</td>\n",
       "      <td>0.352727</td>\n",
       "      <td>0.223811</td>\n",
       "    </tr>\n",
       "    <tr>\n",
       "      <th>min</th>\n",
       "      <td>0.000000</td>\n",
       "      <td>1.000000</td>\n",
       "      <td>2018.000000</td>\n",
       "      <td>1.000000</td>\n",
       "      <td>1.000000</td>\n",
       "      <td>0.000000</td>\n",
       "      <td>0.000000</td>\n",
       "      <td>0.000000</td>\n",
       "      <td>0.000000</td>\n",
       "      <td>0.000000</td>\n",
       "      <td>0.000000</td>\n",
       "    </tr>\n",
       "    <tr>\n",
       "      <th>25%</th>\n",
       "      <td>8.000000</td>\n",
       "      <td>43.000000</td>\n",
       "      <td>2019.000000</td>\n",
       "      <td>3.000000</td>\n",
       "      <td>8.000000</td>\n",
       "      <td>1.000000</td>\n",
       "      <td>0.000000</td>\n",
       "      <td>0.000000</td>\n",
       "      <td>0.000000</td>\n",
       "      <td>0.000000</td>\n",
       "      <td>0.000000</td>\n",
       "    </tr>\n",
       "    <tr>\n",
       "      <th>50%</th>\n",
       "      <td>13.000000</td>\n",
       "      <td>71.000000</td>\n",
       "      <td>2019.000000</td>\n",
       "      <td>7.000000</td>\n",
       "      <td>16.000000</td>\n",
       "      <td>3.000000</td>\n",
       "      <td>1.000000</td>\n",
       "      <td>0.000000</td>\n",
       "      <td>0.000000</td>\n",
       "      <td>0.000000</td>\n",
       "      <td>0.000000</td>\n",
       "    </tr>\n",
       "    <tr>\n",
       "      <th>75%</th>\n",
       "      <td>18.000000</td>\n",
       "      <td>98.000000</td>\n",
       "      <td>2020.000000</td>\n",
       "      <td>10.000000</td>\n",
       "      <td>23.000000</td>\n",
       "      <td>5.000000</td>\n",
       "      <td>2.000000</td>\n",
       "      <td>1.000000</td>\n",
       "      <td>0.000000</td>\n",
       "      <td>0.000000</td>\n",
       "      <td>0.000000</td>\n",
       "    </tr>\n",
       "    <tr>\n",
       "      <th>max</th>\n",
       "      <td>23.000000</td>\n",
       "      <td>379.000000</td>\n",
       "      <td>2021.000000</td>\n",
       "      <td>12.000000</td>\n",
       "      <td>31.000000</td>\n",
       "      <td>6.000000</td>\n",
       "      <td>2.000000</td>\n",
       "      <td>1.000000</td>\n",
       "      <td>1.000000</td>\n",
       "      <td>1.000000</td>\n",
       "      <td>1.000000</td>\n",
       "    </tr>\n",
       "  </tbody>\n",
       "</table>\n",
       "</div>"
      ],
      "text/plain": [
       "               hour        demand          year         month           day  \\\n",
       "count  18247.000000  18247.000000  18247.000000  18247.000000  18247.000000   \n",
       "mean      12.614731     73.991451   2019.396997      6.470324     15.782430   \n",
       "std        6.544963     41.678988      0.810979      3.618189      8.772904   \n",
       "min        0.000000      1.000000   2018.000000      1.000000      1.000000   \n",
       "25%        8.000000     43.000000   2019.000000      3.000000      8.000000   \n",
       "50%       13.000000     71.000000   2019.000000      7.000000     16.000000   \n",
       "75%       18.000000     98.000000   2020.000000     10.000000     23.000000   \n",
       "max       23.000000    379.000000   2021.000000     12.000000     31.000000   \n",
       "\n",
       "          dayofweek        season    is_weekend  after_weekend  \\\n",
       "count  18247.000000  18247.000000  18247.000000   18247.000000   \n",
       "mean       3.025867      1.099414      0.290788       0.141886   \n",
       "std        2.003638      0.812515      0.454138       0.348943   \n",
       "min        0.000000      0.000000      0.000000       0.000000   \n",
       "25%        1.000000      0.000000      0.000000       0.000000   \n",
       "50%        3.000000      1.000000      0.000000       0.000000   \n",
       "75%        5.000000      2.000000      1.000000       0.000000   \n",
       "max        6.000000      2.000000      1.000000       1.000000   \n",
       "\n",
       "       before_weekend    is_holiday  \n",
       "count    18247.000000  18247.000000  \n",
       "mean         0.145613      0.052885  \n",
       "std          0.352727      0.223811  \n",
       "min          0.000000      0.000000  \n",
       "25%          0.000000      0.000000  \n",
       "50%          0.000000      0.000000  \n",
       "75%          0.000000      0.000000  \n",
       "max          1.000000      1.000000  "
      ]
     },
     "execution_count": 6,
     "metadata": {},
     "output_type": "execute_result"
    }
   ],
   "source": [
    "# checking statistics of the data\n",
    "train_df.describe()"
   ]
  },
  {
   "cell_type": "markdown",
   "metadata": {},
   "source": [
    "<b><h3>EDA</h3><b>\n",
    "    \n",
    "From Dataset, we observerd that there are two independent variables(i.e., `date`, `hour`)  but both are measuring time. and another variable is `demand` which is our target/ dependent variable. \n",
    "    \n",
    "Taking this into note, we devired new features from existing `date` feature like `year`, `month`, `relative date`, `day`, `season`, `is_weekend`, `after_weekend`, `before_weekend`, `is_hoilday`\n",
    "    \n",
    "`year`   -> 2019,2020.. <br>\n",
    "`month`  -> Jan, Feb, March..... etc in numerial form <br>\n",
    "`day`    -> Monday, Tuesday..etc in numerial form, 0-6 <br>\n",
    "`season` -> summer, Rainy , winter <br>\n",
    "    \n",
    "\n",
    "    "
   ]
  },
  {
   "cell_type": "markdown",
   "metadata": {},
   "source": [
    "<b>Average of the car rentals demand for each hour of the day </b>"
   ]
  },
  {
   "cell_type": "code",
   "execution_count": 7,
   "metadata": {},
   "outputs": [
    {
     "data": {
      "text/plain": [
       "'\" \\nBelow graph shows the average demand for each hour of the day,  we conclude that the demand of cars \\nrentals are high in between the hours of 11 to 20. and rest of the hours are low.\\n'"
      ]
     },
     "execution_count": 7,
     "metadata": {},
     "output_type": "execute_result"
    },
    {
     "data": {
      "image/png": "[encoded data removed]",
      "text/plain": [
       "<Figure size 432x288 with 1 Axes>"
      ]
     },
     "metadata": {
      "needs_background": "light"
     },
     "output_type": "display_data"
    }
   ],
   "source": [
    "\"\"\" \n",
    "Average of the car rentals demand for each hour of the day \n",
    "\n",
    "\"\"\"\n",
    "train_df.groupby('hour').mean()['demand'].plot(kind='bar')\n",
    "\n",
    "\"\"\"\" \n",
    "Below graph shows the average demand for each hour of the day,  we conclude that the demand of cars \n",
    "rentals are high in between the hours of 11 to 20. and rest of the hours are low.\n",
    "\"\"\""
   ]
  },
  {
   "cell_type": "markdown",
   "metadata": {},
   "source": [
    "<b> Average of the car rentals demand for each day of the month </b>"
   ]
  },
  {
   "cell_type": "code",
   "execution_count": 8,
   "metadata": {},
   "outputs": [
    {
     "data": {
      "text/plain": [
       "'\" \\nBelow graph shows the average demand for each day of the month,  we conclude that the demand of cars \\nrentals are almost average upto 75.\\n'"
      ]
     },
     "execution_count": 8,
     "metadata": {},
     "output_type": "execute_result"
    },
    {
     "data": {
      "image/png": "[encoded data removed]",
      "text/plain": [
       "<Figure size 432x288 with 1 Axes>"
      ]
     },
     "metadata": {
      "needs_background": "light"
     },
     "output_type": "display_data"
    }
   ],
   "source": [
    "\"\"\" \n",
    "Average of the car rentals demand for each day of the month \n",
    "\n",
    "\"\"\"\n",
    "train_df.groupby('day').mean()['demand'].plot(kind='bar')\n",
    "\n",
    "\"\"\"\" \n",
    "Below graph shows the average demand for each day of the month,  we conclude that the demand of cars \n",
    "rentals are almost average upto 75.\n",
    "\"\"\""
   ]
  },
  {
   "cell_type": "markdown",
   "metadata": {},
   "source": [
    "<b>Average of the car rentals demand for each day of the week</b>"
   ]
  },
  {
   "cell_type": "code",
   "execution_count": 9,
   "metadata": {},
   "outputs": [
    {
     "data": {
      "text/plain": [
       "' \\nBelow graph shows the average demand for each day of the week,  we conclude that the average demand \\nfor the end of week is higher than the remaning days of week.\\n'"
      ]
     },
     "execution_count": 9,
     "metadata": {},
     "output_type": "execute_result"
    },
    {
     "data": {
      "image/png": "[encoded data removed]",
      "text/plain": [
       "<Figure size 432x288 with 1 Axes>"
      ]
     },
     "metadata": {
      "needs_background": "light"
     },
     "output_type": "display_data"
    }
   ],
   "source": [
    "\"\"\" \n",
    "Average of the car rentals demand for each day of the week \n",
    "\n",
    "\"\"\"\n",
    "train_df.groupby('dayofweek').mean()['demand'].plot(kind='bar')\n",
    "\n",
    "\"\"\" \n",
    "Below graph shows the average demand for each day of the week,  we conclude that the average demand \n",
    "for the end of week is higher than the remaning days of week.\n",
    "\"\"\""
   ]
  },
  {
   "cell_type": "markdown",
   "metadata": {},
   "source": [
    "<b>Average of the car rentals demand for each day of the week</b>"
   ]
  },
  {
   "cell_type": "code",
   "execution_count": 10,
   "metadata": {},
   "outputs": [
    {
     "data": {
      "text/plain": [
       "'\" \\nBelow graph shows the average demand for each hour of the day,  we conclude that the demand of cars \\nrentals are almost average upto 79. In November, the demand is higher than the rest of the months.\\n'"
      ]
     },
     "execution_count": 10,
     "metadata": {},
     "output_type": "execute_result"
    },
    {
     "data": {
      "image/png": "[encoded data removed]",
      "text/plain": [
       "<Figure size 432x288 with 1 Axes>"
      ]
     },
     "metadata": {
      "needs_background": "light"
     },
     "output_type": "display_data"
    }
   ],
   "source": [
    "\"\"\" \n",
    "Average of the car rentals demand for each month of the year \n",
    "\n",
    "\"\"\"\n",
    "train_df.groupby('month').mean()['demand'].plot(kind='bar')\n",
    "\n",
    "\"\"\"\" \n",
    "Below graph shows the average demand for each hour of the day,  we conclude that the demand of cars \n",
    "rentals are almost average upto 79. In November, the demand is higher than the rest of the months.\n",
    "\"\"\""
   ]
  },
  {
   "cell_type": "markdown",
   "metadata": {},
   "source": [
    "<b>Average of the car rentals demand for each year</b>"
   ]
  },
  {
   "cell_type": "code",
   "execution_count": 11,
   "metadata": {},
   "outputs": [
    {
     "data": {
      "text/plain": [
       "'\" \\nBelow graph shows the average demand in years,  we conclude that the demand of cars \\nrentals are slightly increasing demand over the years.\\n'"
      ]
     },
     "execution_count": 11,
     "metadata": {},
     "output_type": "execute_result"
    },
    {
     "data": {
      "image/png": "[encoded data removed]",
      "text/plain": [
       "<Figure size 432x288 with 1 Axes>"
      ]
     },
     "metadata": {
      "needs_background": "light"
     },
     "output_type": "display_data"
    }
   ],
   "source": [
    "\"\"\" \n",
    "Average of the car rentals demand for each year\n",
    "\"\"\"\n",
    "train_df.groupby('year').mean()['demand'].plot(kind='bar')\n",
    "\n",
    "\"\"\"\" \n",
    "Below graph shows the average demand in years,  we conclude that the demand of cars \n",
    "rentals are slightly increasing demand over the years.\n",
    "\"\"\""
   ]
  },
  {
   "cell_type": "markdown",
   "metadata": {},
   "source": [
    "<b> Correlation of Features on one to one bias: </b>"
   ]
  },
  {
   "cell_type": "code",
   "execution_count": 12,
   "metadata": {},
   "outputs": [
    {
     "data": {
      "text/plain": [
       "<AxesSubplot:>"
      ]
     },
     "execution_count": 12,
     "metadata": {},
     "output_type": "execute_result"
    },
    {
     "data": {
      "image/png": "[encoded data removed]",
      "text/plain": [
       "<Figure size 864x576 with 2 Axes>"
      ]
     },
     "metadata": {
      "needs_background": "light"
     },
     "output_type": "display_data"
    }
   ],
   "source": [
    "import seaborn as sns\n",
    "import matplotlib.pyplot as plt\n",
    "\n",
    "plt.figure(figsize=(12,8))\n",
    "\n",
    "sns.heatmap(\n",
    "train_df.corr(), fmt='.2f', annot=True, cmap='coolwarm')"
   ]
  },
  {
   "cell_type": "code",
   "execution_count": 13,
   "metadata": {},
   "outputs": [
    {
     "data": {
      "text/plain": [
       "<AxesSubplot:ylabel='Frequency'>"
      ]
     },
     "execution_count": 13,
     "metadata": {},
     "output_type": "execute_result"
    },
    {
     "data": {
      "image/png": "[encoded data removed]",
      "text/plain": [
       "<Figure size 432x288 with 1 Axes>"
      ]
     },
     "metadata": {
      "needs_background": "light"
     },
     "output_type": "display_data"
    }
   ],
   "source": [
    "train_df['demand'].plot(kind='hist', bins=50) #Positive skewed distribution"
   ]
  },
  {
   "cell_type": "code",
   "execution_count": 14,
   "metadata": {},
   "outputs": [],
   "source": [
    "train_df.fillna(0, inplace=True) # null values replace with 0 bcoz, in hoilday column we shifts rows up or down in train data\n",
    "test_df.fillna(0, inplace=True) # null values replace with 0 bcoz, in hoilday column we shifts rows up or down in test data"
   ]
  },
  {
   "cell_type": "markdown",
   "metadata": {},
   "source": [
    "<b>OneHot Encoding <b>"
   ]
  },
  {
   "cell_type": "code",
   "execution_count": 15,
   "metadata": {},
   "outputs": [],
   "source": [
    "#only onehot encoding -> dayofweek \n",
    "\n",
    "train_df = pd.concat([train_df, pd.get_dummies(train_df['dayofweek'], prefix='dayofweek')], axis=1) \n",
    "train_df.drop(['dayofweek'], axis=1, inplace=True)\n",
    "\n",
    "\n",
    "test_df = pd.concat([test_df, pd.get_dummies(test_df['dayofweek'], prefix='dayofweek')], axis=1)\n",
    "test_df.drop(['dayofweek'], axis=1, inplace=True)\n"
   ]
  },
  {
   "cell_type": "markdown",
   "metadata": {},
   "source": [
    "<b> Spliting of dataset into Train and Test data </b>"
   ]
  },
  {
   "cell_type": "code",
   "execution_count": 16,
   "metadata": {},
   "outputs": [],
   "source": [
    "split = int(round(train_df.shape[0]*0.75, 0)) # 75 % trainset and 25 % testset split value in train_df \n",
    "\n",
    "Xtrain = train_df[:split].drop(['demand'], axis=1)\n",
    "ytrain = train_df[:split]['demand']\n",
    "\n",
    "Xtest = train_df[split:].drop(['demand'], axis=1)\n",
    "ytest = train_df[split:]['demand']"
   ]
  },
  {
   "cell_type": "markdown",
   "metadata": {},
   "source": [
    "<b><h3> Model Training: </h3> <b>\n",
    "    \n",
    "    By Statistcal Analysis of Dataset, we found that it is a time-series problem but if we use time-series models, the predications are not good. Because `demand` variable is almost uniform distrubution. Finally, we concluded that the problem statement is a regression model in supervised learning to acheive better predications.\n",
    "    \n",
    " <b>Linear Regression<b>\n"
   ]
  },
  {
   "cell_type": "code",
   "execution_count": 17,
   "metadata": {},
   "outputs": [
    {
     "name": "stdout",
     "output_type": "stream",
     "text": [
      "RMSE Score:- 41.94499989178477\n"
     ]
    }
   ],
   "source": [
    "from sklearn.linear_model import LinearRegression\n",
    "from sklearn.metrics import mean_squared_error, r2_score\n",
    "\n",
    "lr = LinearRegression()\n",
    "lr.fit(Xtrain, ytrain)\n",
    "\n",
    "ypred = lr.predict(Xtest)\n",
    "print(\"RMSE Score:- {0}\".format(mean_squared_error(ytest, ypred, squared=False)))"
   ]
  },
  {
   "cell_type": "markdown",
   "metadata": {},
   "source": [
    "<b>RandomForest Regressor<b>"
   ]
  },
  {
   "cell_type": "code",
   "execution_count": 18,
   "metadata": {},
   "outputs": [
    {
     "name": "stdout",
     "output_type": "stream",
     "text": [
      "RMSE Score:- 38.249143921960176\n"
     ]
    }
   ],
   "source": [
    "from sklearn.ensemble import RandomForestRegressor\n",
    "\n",
    "rnfr = RandomForestRegressor()\n",
    "rnfr.fit(Xtrain, ytrain)\n",
    "\n",
    "rnf_ypred = rnfr.predict(Xtest)\n",
    "print(\"RMSE Score:- {0}\".format(mean_squared_error(ytest, rnf_ypred, squared=False)))"
   ]
  },
  {
   "cell_type": "markdown",
   "metadata": {},
   "source": [
    "<b> XGBoost:- </b>"
   ]
  },
  {
   "cell_type": "code",
   "execution_count": 19,
   "metadata": {},
   "outputs": [
    {
     "name": "stdout",
     "output_type": "stream",
     "text": [
      "RMSE Score:- 39.042231074399844\n"
     ]
    }
   ],
   "source": [
    "import xgboost as xgb\n",
    "\n",
    "xgbr = xgb.XGBRegressor(learning_rate=0.05, objective='reg:squarederror', n_estimators=50, max_depth=3)\n",
    "xgbr.fit(Xtrain, ytrain)\n",
    "\n",
    "xgbrp = xgbr.predict(Xtest)\n",
    "print(\"RMSE Score:- {0}\".format(mean_squared_error(ytest, xgbrp, squared=False)))"
   ]
  },
  {
   "cell_type": "markdown",
   "metadata": {},
   "source": [
    "<b> LightGBM </b>"
   ]
  },
  {
   "cell_type": "code",
   "execution_count": 20,
   "metadata": {},
   "outputs": [
    {
     "name": "stdout",
     "output_type": "stream",
     "text": [
      "RMSE Score:- 36.20811622540985\n"
     ]
    }
   ],
   "source": [
    "import lightgbm as lgb\n",
    "\n",
    "lgbr = lgb.LGBMRegressor(learning_rate=0.05, n_estimators=1000, max_depth=3)\n",
    "lgbr.fit(Xtrain, ytrain)\n",
    "\n",
    "lgbp = lgbr.predict(Xtest)\n",
    "\n",
    "print(\"RMSE Score:- {0}\".format(mean_squared_error(ytest, lgbp, squared=False)))"
   ]
  },
  {
   "cell_type": "markdown",
   "metadata": {},
   "source": [
    "<b><h3> Hyper-Parameter Tuning:- </h3> </b>\n",
    "<b>XGBRegressor <b>"
   ]
  },
  {
   "cell_type": "code",
   "execution_count": 21,
   "metadata": {},
   "outputs": [
    {
     "name": "stdout",
     "output_type": "stream",
     "text": [
      "Fitting 3 folds for each of 24 candidates, totalling 72 fits\n",
      "[21:03:51] WARNING: C:/Users/Administrator/workspace/xgboost-win64_release_1.6.0/src/learner.cc:627: \n",
      "Parameters: { \"estimator__learning_rate\", \"estimator__max_depth\", \"estimator__n_estimators\", \"estimator__objective\" } might not be used.\n",
      "\n",
      "  This could be a false alarm, with some parameters getting used by language bindings but\n",
      "  then being mistakenly passed down to XGBoost core, or some parameter actually being used\n",
      "  but getting flagged wrongly here. Please open an issue if you find any such cases.\n",
      "\n",
      "\n",
      "{'estimator__learning_rate': 0.01, 'estimator__max_depth': 5, 'estimator__n_estimators': 100, 'estimator__objective': 'reg:squarederror'} \n",
      "\n",
      "\n",
      "\n",
      "RMSE Score:- 38.63728727448773\n"
     ]
    }
   ],
   "source": [
    "from xgboost import XGBRegressor\n",
    "from sklearn.model_selection import GridSearchCV\n",
    "\n",
    "gsc = GridSearchCV(\n",
    "            estimator=XGBRegressor(),\n",
    "            param_grid={\"estimator__learning_rate\": (0.01, 0.05), \"estimator__n_estimators\": (100,150), \n",
    "            \"estimator__objective\": ('reg:squarederror', 'reg:gamma', 'reg:linear'), \"estimator__max_depth\": (5, 10)},\n",
    "            cv=3, scoring='neg_mean_squared_error', verbose=1, n_jobs=-1)\n",
    "\n",
    "grid_result = gsc.fit(Xtrain, ytrain)\n",
    "print(grid_result.best_params_, \"\\n\\n\\n\")\n",
    "print(\"RMSE Score:- {0}\".format(mean_squared_error(ytest, gsc.predict(Xtest), squared=False)))"
   ]
  },
  {
   "cell_type": "markdown",
   "metadata": {},
   "source": [
    "<b>LightGBM Regressor </b>"
   ]
  },
  {
   "cell_type": "code",
   "execution_count": 22,
   "metadata": {},
   "outputs": [
    {
     "name": "stdout",
     "output_type": "stream",
     "text": [
      "Fitting 3 folds for each of 64 candidates, totalling 192 fits\n",
      "[LightGBM] [Warning] Unknown parameter: estimator__max_depth\n",
      "[LightGBM] [Warning] Unknown parameter: estimator__n_estimators\n",
      "[LightGBM] [Warning] Unknown parameter: estimator__boosting_type\n",
      "[LightGBM] [Warning] Unknown parameter: estimator__learning_rate\n",
      "[LightGBM] [Warning] Unknown parameter: estimator__max_bin\n",
      "[LightGBM] [Warning] Unknown parameter: estimator__num_leaves\n",
      "{'estimator__boosting_type': 'rf', 'estimator__learning_rate': 0.05, 'estimator__max_bin': 32, 'estimator__max_depth': 3, 'estimator__n_estimators': 50, 'estimator__num_leaves': 32} \n",
      "\n",
      "\n",
      "\n",
      "RMSE Score:- 35.71700775031582\n"
     ]
    }
   ],
   "source": [
    "from lightgbm import LGBMRegressor\n",
    "from sklearn.model_selection import GridSearchCV\n",
    "\n",
    "lgsv = GridSearchCV(\n",
    "            estimator=LGBMRegressor(),\n",
    "            param_grid={\"estimator__boosting_type\":('rf', 'dart'),\"estimator__learning_rate\": (0.05, 0.01),\\\n",
    "                 \"estimator__n_estimators\": (50, 100), \"estimator__max_bin\": (32, 64),\n",
    "                 \"estimator__max_depth\": (3, 5), \"estimator__num_leaves\": (32,64)},\n",
    "            cv=3, scoring='neg_mean_squared_error', verbose=1, n_jobs=-1)\n",
    "\n",
    "lreg = lgsv.fit(Xtrain, ytrain)\n",
    "print(lreg.best_params_, \"\\n\\n\\n\")\n",
    "\n",
    "print(\"RMSE Score:- {0}\".format(mean_squared_error(ytest, lgsv.predict(Xtest), squared=False)))"
   ]
  },
  {
   "cell_type": "markdown",
   "metadata": {},
   "source": [
    "<b>Feature Importances </b>"
   ]
  },
  {
   "cell_type": "code",
   "execution_count": 23,
   "metadata": {},
   "outputs": [
    {
     "data": {
      "text/plain": [
       "['hour',\n",
       " 'year',\n",
       " 'month',\n",
       " 'day',\n",
       " 'season',\n",
       " 'is_weekend',\n",
       " 'after_weekend',\n",
       " 'before_weekend',\n",
       " 'is_holiday',\n",
       " 'dayofweek_0',\n",
       " 'dayofweek_1',\n",
       " 'dayofweek_2',\n",
       " 'dayofweek_3',\n",
       " 'dayofweek_4',\n",
       " 'dayofweek_5',\n",
       " 'dayofweek_6']"
      ]
     },
     "execution_count": 23,
     "metadata": {},
     "output_type": "execute_result"
    }
   ],
   "source": [
    "lgbr.feature_name_"
   ]
  },
  {
   "cell_type": "code",
   "execution_count": 24,
   "metadata": {},
   "outputs": [
    {
     "data": {
      "text/plain": [
       "<BarContainer object of 16 artists>"
      ]
     },
     "execution_count": 24,
     "metadata": {},
     "output_type": "execute_result"
    },
    {
     "data": {
      "image/png": "[encoded data removed]",
      "text/plain": [
       "<Figure size 1440x360 with 1 Axes>"
      ]
     },
     "metadata": {
      "needs_background": "light"
     },
     "output_type": "display_data"
    }
   ],
   "source": [
    "import matplotlib.pyplot as plt\n",
    "plt.figure(figsize=(20,5))\n",
    "\n",
    "plt.bar([lgbr.feature_name_[x] for x in range(len(lgbr.feature_importances_))], lgbr.feature_importances_)"
   ]
  },
  {
   "cell_type": "markdown",
   "metadata": {},
   "source": [
    "<b><h3>Model Testing</h3></b>\n",
    "\n",
    "<b>Predications</b>\n",
    "\n",
    "Finally, I concluded that `LGBMRegressor()` is best estimator for forcasting the car rentals on hourly basis."
   ]
  },
  {
   "cell_type": "code",
   "execution_count": 25,
   "metadata": {},
   "outputs": [],
   "source": [
    "testpred = lgsv.predict(test_df)"
   ]
  },
  {
   "cell_type": "code",
   "execution_count": 26,
   "metadata": {},
   "outputs": [
    {
     "data": {
      "text/plain": [
       "(7650, 16)"
      ]
     },
     "execution_count": 26,
     "metadata": {},
     "output_type": "execute_result"
    }
   ],
   "source": [
    "test_df.shape"
   ]
  },
  {
   "cell_type": "markdown",
   "metadata": {},
   "source": [
    "<b> Submissions </b>"
   ]
  },
  {
   "cell_type": "code",
   "execution_count": 27,
   "metadata": {},
   "outputs": [],
   "source": [
    "submissions = pd.DataFrame({\n",
    "    'date': test_df.index,\n",
    "    'hour': test_df.hour,\n",
    "    'demand': np.round(testpred, 0)\n",
    "})\n",
    "submissions['demand'] = submissions['demand'].astype('int')\n",
    "submissions.to_csv('submission.csv', index=False)"
   ]
  }
 ],
 "metadata": {
  "interpreter": {
   "hash": "f81801b88d58def1543e5db96f9ecd137add26b855e41f35f2c30c7115f1a59a"
  },
  "kernelspec": {
   "display_name": "Python 3 (ipykernel)",
   "language": "python",
   "name": "python3"
  },
  "language_info": {
   "codemirror_mode": {
    "name": "ipython",
    "version": 3
   },
   "file_extension": ".py",
   "mimetype": "text/x-python",
   "name": "python",
   "nbconvert_exporter": "python",
   "pygments_lexer": "ipython3",
   "version": "3.9.7"
  }
 },
 "nbformat": 4,
 "nbformat_minor": 4
}
